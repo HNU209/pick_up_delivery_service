{
 "cells": [
  {
   "cell_type": "code",
   "execution_count": 2,
   "metadata": {},
   "outputs": [],
   "source": [
    "from module.generate_random_point import *\n",
    "import geopandas as gpd\n",
    "import pandas as pd\n",
    "import numpy as np \n",
    "import pydeck as pdk\n",
    "import osmnx as ox"
   ]
  }
 ],
 "metadata": {
  "kernelspec": {
   "display_name": "Python 3.8.10 ('handson_ml')",
   "language": "python",
   "name": "python3"
  },
  "language_info": {
   "codemirror_mode": {
    "name": "ipython",
    "version": 3
   },
   "file_extension": ".py",
   "mimetype": "text/x-python",
   "name": "python",
   "nbconvert_exporter": "python",
   "pygments_lexer": "ipython3",
   "version": "3.8.10"
  },
  "orig_nbformat": 4,
  "vscode": {
   "interpreter": {
    "hash": "5263ab1b52defc8aa1b3bd98c5b6146be6929b09b640df9302fa190fb8e4ee7a"
   }
  }
 },
 "nbformat": 4,
 "nbformat_minor": 2
}
