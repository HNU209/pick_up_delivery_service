{
 "cells": [
  {
   "cell_type": "code",
   "execution_count": 1,
   "metadata": {},
   "outputs": [
    {
     "name": "stdout",
     "output_type": "stream",
     "text": [
      "*** Test ***\n",
      "Raw JSON output: \n",
      " [{'cost': 135.79, 'driver_id': 11, 'steps': [{'id': -1, 'location_index': 0, 'type': 'start'}, {'id': 4002, 'location_index': 3, 'type': 'job'}, {'id': 2001, 'location_index': 7, 'type': 'pickup'}, {'id': 3002, 'location_index': 2, 'type': 'job'}, {'id': 2002, 'location_index': 8, 'type': 'delivery'}, {'id': -1, 'location_index': 8, 'type': 'end'}]}, {'cost': 23.56, 'driver_id': 12, 'steps': [{'id': -1, 'location_index': 5, 'type': 'start'}, {'id': 1001, 'location_index': 5, 'type': 'pickup'}, {'id': 1002, 'location_index': 6, 'type': 'delivery'}, {'id': -1, 'location_index': 6, 'type': 'end'}]}]\n",
      "Driver ID:  11\n",
      "Cost:  135.79\n",
      "- Step:  {'id': -1, 'location_index': 0, 'type': 'start'}\n",
      "- Step:  {'id': 4002, 'location_index': 3, 'type': 'job'}\n",
      "- Step:  {'id': 2001, 'location_index': 7, 'type': 'pickup'}\n",
      "- Step:  {'id': 3002, 'location_index': 2, 'type': 'job'}\n",
      "- Step:  {'id': 2002, 'location_index': 8, 'type': 'delivery'}\n",
      "- Step:  {'id': -1, 'location_index': 8, 'type': 'end'}\n",
      "Driver ID:  12\n",
      "Cost:  23.56\n",
      "- Step:  {'id': -1, 'location_index': 5, 'type': 'start'}\n",
      "- Step:  {'id': 1001, 'location_index': 5, 'type': 'pickup'}\n",
      "- Step:  {'id': 1002, 'location_index': 6, 'type': 'delivery'}\n",
      "- Step:  {'id': -1, 'location_index': 6, 'type': 'end'}\n"
     ]
    }
   ],
   "source": [
    "import toml\n",
    "import requests\n",
    "import argparse\n",
    "\n",
    "def test():\n",
    "    host = \"julia.eng.usf.edu\"\n",
    "    port = 4532\n",
    "    \n",
    "    json_data = {\n",
    "        \"coordinates\": [\n",
    "            [37.6766, 126.3929],\n",
    "            [37.4345, 126.3263],\n",
    "            [37.3456, 126.7543],\n",
    "            [37.6534, 126.6345],\n",
    "            [37.2343, 126.4353],\n",
    "            [37.4354, 126.5432],\n",
    "            [37.2342, 126.5543],\n",
    "            [37.4567, 126.6547],\n",
    "            [37.7653, 126.8657],\n",
    "        ],\n",
    "        \"drivers\": [\n",
    "            {\n",
    "                \"driver_id\": 11,\n",
    "                \"location_index\": 0, # 해당 드라이버의 위치 인덱스\n",
    "                \"deliveries\": [\n",
    "                    {\"id\": 3002, \"location_index\": 2}, # 현재 배달중인 물건과 도착지역\n",
    "                    {\"id\": 4002, \"location_index\": 3}, # 현재 배달중인 물건과 도착지역\n",
    "                ],\n",
    "            },\n",
    "            {\"driver_id\": 12, \"location_index\": 5}, # 현재 배달중인 물건이 없음\n",
    "        ],\n",
    "        \"shipments\": [\n",
    "            {\n",
    "                \"pickup\": {\"id\": 1001, \"location_index\": 5}, # 새로운 물건의 출발지\n",
    "                \"delivery\": {\"id\": 1002, \"location_index\": 6}, # 새로운 물건의 배송지\n",
    "            },\n",
    "            {\n",
    "                \"pickup\": {\"id\": 2001, \"location_index\": 7}, # 새로운 물건의 출발지\n",
    "                \"delivery\": {\"id\": 2002, \"location_index\": 8}, # 새로운 물건의 배송지\n",
    "            },\n",
    "        ],\n",
    "    }\n",
    "    \n",
    "    resp = requests.post(f\"http://{host}:{port}/pdp\", json=json_data)\n",
    "    print(\"*** Test ***\")\n",
    "    \n",
    "    j = resp.json()\n",
    "    print(\"Raw JSON output: \\n\", j)\n",
    "\n",
    "    for route in j:\n",
    "        print(\"Driver ID: \", route[\"driver_id\"])\n",
    "        print(\"Cost: \", route[\"cost\"])\n",
    "        for step in route[\"steps\"]:\n",
    "            print(\"- Step: \", step)\n",
    "            \n",
    "if __name__ == \"__main__\":\n",
    "    test()"
   ]
  },
  {
   "cell_type": "code",
   "execution_count": 2,
   "metadata": {},
   "outputs": [
    {
     "ename": "NameError",
     "evalue": "name 'j' is not defined",
     "output_type": "error",
     "traceback": [
      "\u001b[1;31m---------------------------------------------------------------------------\u001b[0m",
      "\u001b[1;31mNameError\u001b[0m                                 Traceback (most recent call last)",
      "\u001b[1;32m<ipython-input-2-3eedd8854d1e>\u001b[0m in \u001b[0;36m<module>\u001b[1;34m\u001b[0m\n\u001b[1;32m----> 1\u001b[1;33m \u001b[0mj\u001b[0m\u001b[1;33m\u001b[0m\u001b[1;33m\u001b[0m\u001b[0m\n\u001b[0m",
      "\u001b[1;31mNameError\u001b[0m: name 'j' is not defined"
     ]
    }
   ],
   "source": [
    "j"
   ]
  }
 ],
 "metadata": {
  "kernelspec": {
   "display_name": "Python 3.8.8 ('base')",
   "language": "python",
   "name": "python3"
  },
  "language_info": {
   "codemirror_mode": {
    "name": "ipython",
    "version": 3
   },
   "file_extension": ".py",
   "mimetype": "text/x-python",
   "name": "python",
   "nbconvert_exporter": "python",
   "pygments_lexer": "ipython3",
   "version": "3.8.8"
  },
  "orig_nbformat": 4,
  "vscode": {
   "interpreter": {
    "hash": "a077222d77dfe082b8f1dd562ad70e458ac2ab76993a0b248ab0476e32e9e8dd"
   }
  }
 },
 "nbformat": 4,
 "nbformat_minor": 2
}
