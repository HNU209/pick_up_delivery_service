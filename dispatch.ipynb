{
 "cells": [
  {
   "cell_type": "code",
   "execution_count": null,
   "metadata": {},
   "outputs": [],
   "source": [
    "import toml\n",
    "import requests\n",
    "import argparse\n",
    "\n",
    "def test():\n",
    "    host = \"julia.eng.usf.edu\"\n",
    "    port = 4532\n",
    "    \n",
    "    json_data = {\n",
    "        \"coordinates\": [\n",
    "            [37.6766, 126.3929],\n",
    "            [37.4345, 126.3263],\n",
    "            [37.3456, 126.7543],\n",
    "            [37.6534, 126.6345],\n",
    "            [37.2343, 126.4353],\n",
    "            [37.4354, 126.5432],\n",
    "            [37.2342, 126.5543],\n",
    "            [37.4567, 126.6547],\n",
    "            [37.7653, 126.8657],\n",
    "        ],\n",
    "        \"drivers\": [\n",
    "            {\n",
    "                \"driver_id\": 11,\n",
    "                \"location_index\": 0, # 해당 드라이버의 위치 인덱스\n",
    "                \"deliveries\": [\n",
    "                    {\"id\": 3002, \"location_index\": 2}, # 현재 배달중인 물건과 도착지역\n",
    "                    {\"id\": 4002, \"location_index\": 3}, # 현재 배달중인 물건과 도착지역\n",
    "                ],\n",
    "            },\n",
    "            {\"driver_id\": 12, \"location_index\": 5}, # 현재 배달중인 물건이 없음\n",
    "        ],\n",
    "        \"shipments\": [\n",
    "            {\n",
    "                \"pickup\": {\"id\": 1001, \"location_index\": 5},\n",
    "                \"delivery\": {\"id\": 1002, \"location_index\": 6},\n",
    "            },\n",
    "            {\n",
    "                \"pickup\": {\"id\": 2001, \"location_index\": 7},\n",
    "                \"delivery\": {\"id\": 2002, \"location_index\": 8},\n",
    "            },\n",
    "        ],\n",
    "    }\n",
    "    resp = requests.post(f\"http://{host}:{port}/pdp\", json=json_data)\n",
    "    print(\"*** Test ***\")\n",
    "    \n",
    "    j = resp.json()\n",
    "    print(\"Raw JSON output: \\n\", j)\n",
    "\n",
    "    for route in j:\n",
    "        print(\"Driver ID: \", route[\"driver_id\"])\n",
    "        print(\"Cost: \", route[\"cost\"])\n",
    "        for step in route[\"steps\"]:\n",
    "            print(\"- Step: \", step)\n",
    "            \n",
    "if __name__ == \"__main__\":\n",
    "    test()"
   ]
  }
 ],
 "metadata": {
  "kernelspec": {
   "display_name": "Python 3.8.8 ('base')",
   "language": "python",
   "name": "python3"
  },
  "language_info": {
   "name": "python",
   "version": "3.8.8"
  },
  "orig_nbformat": 4,
  "vscode": {
   "interpreter": {
    "hash": "a077222d77dfe082b8f1dd562ad70e458ac2ab76993a0b248ab0476e32e9e8dd"
   }
  }
 },
 "nbformat": 4,
 "nbformat_minor": 2
}
